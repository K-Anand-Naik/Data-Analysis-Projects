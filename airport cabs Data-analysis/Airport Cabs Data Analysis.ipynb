{
 "cells": [
  {
   "cell_type": "code",
   "execution_count": null,
   "id": "cf52fad2",
   "metadata": {},
   "outputs": [],
   "source": [
    "                                              Airport Cabs Data Analysis\n",
    "    #1. Mean speed of the all the rides\n",
    "    #2. number of rides taken in february\n",
    "    #3. Number of rides where tip is more than $50\n",
    "    #4. Number of rides where drop wa JFK airport"
   ]
  },
  {
   "cell_type": "code",
   "execution_count": 1,
   "id": "70019bad",
   "metadata": {},
   "outputs": [],
   "source": [
    "import numpy as np\n",
    "\n",
    "cab = np.genfromtxt('nyc_taxis_dataset.csv', delimiter = ',', skip_header = True) # this is a numpy array so no need of strings\n"
   ]
  },
  {
   "cell_type": "code",
   "execution_count": 4,
   "id": "ad1ecd57",
   "metadata": {},
   "outputs": [
    {
     "name": "stdout",
     "output_type": "stream",
     "text": [
      "Mean speed of the rides:  32.24258580925573\n"
     ]
    }
   ],
   "source": [
    "#1. Mean speed of the all the rides\n",
    "\n",
    "# Finding the speed of the data from col H and col L*1000\n",
    "\n",
    "speed = cab[:, 7] / (cab[:, 8]/3600)    #----> speed = mph\n",
    "\n",
    "mean_speed = speed.mean()\n",
    "\n",
    "print(\"Mean speed of the rides: \",mean_speed)"
   ]
  },
  {
   "cell_type": "code",
   "execution_count": 5,
   "id": "2d0dd7c8",
   "metadata": {},
   "outputs": [
    {
     "name": "stdout",
     "output_type": "stream",
     "text": [
      "Number of Feb rides:  13333\n"
     ]
    }
   ],
   "source": [
    "#2. number of rides taken in february (given a number 2 for february)\n",
    "# fisrt extract number of rides with number-2 in month column then give a count\n",
    "# Using the boolean algebra for extracting the rows\n",
    "\n",
    "feb_rides = cab[cab[:, 1] == 2, 1]\n",
    "\n",
    "print(\"Number of Feb rides: \",feb_rides.shape[0])"
   ]
  },
  {
   "cell_type": "code",
   "execution_count": 6,
   "id": "f27125b9",
   "metadata": {},
   "outputs": [
    {
     "name": "stdout",
     "output_type": "stream",
     "text": [
      "Number of rides where tip is more than $50:  16\n"
     ]
    }
   ],
   "source": [
    "#3. Number of rides where tip is more than $50\n",
    "# Use boolean algebra to separater the rows of tip from the data\n",
    "\n",
    "tip_50 = cab[cab[:, -3]>50, -3]\n",
    "print('Number of rides where tip is more than $50: ', tip_50.shape[0])"
   ]
  },
  {
   "cell_type": "code",
   "execution_count": 7,
   "id": "3b395a2c",
   "metadata": {},
   "outputs": [
    {
     "name": "stdout",
     "output_type": "stream",
     "text": [
      "Number of rides to JFK airport:  11832\n"
     ]
    }
   ],
   "source": [
    "#4. Number of rides where drop wa JFK airport\n",
    "# Dropoff_location_code for JFK airport is 2\n",
    "\n",
    "JFK_rides = cab[cab[:, 6] == 2, 6]\n",
    "print('Number of rides to JFK airport: ', JFK_rides.shape[0])"
   ]
  }
 ],
 "metadata": {
  "kernelspec": {
   "display_name": "Python 3",
   "language": "python",
   "name": "python3"
  },
  "language_info": {
   "codemirror_mode": {
    "name": "ipython",
    "version": 3
   },
   "file_extension": ".py",
   "mimetype": "text/x-python",
   "name": "python",
   "nbconvert_exporter": "python",
   "pygments_lexer": "ipython3",
   "version": "3.8.8"
  }
 },
 "nbformat": 4,
 "nbformat_minor": 5
}
